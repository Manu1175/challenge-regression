{
 "cells": [
  {
   "cell_type": "code",
   "execution_count": null,
   "id": "c625949a",
   "metadata": {},
   "outputs": [],
   "source": [
    "\"\"\"\n",
    "TO BE ADDED:\n",
    "\n",
    "- CV\n",
    "- GridSearchCV\n",
    "\n",
    "\"\"\"\n",
    "\n",
    "\n",
    "# Data wrangling libraries\n",
    "import pandas as pd\n",
    "import numpy as np\n",
    "\n",
    "# Visualisation libraries\n",
    "import matplotlib.pyplot as plt\n",
    "import seaborn as sns\n",
    "\n",
    "# Preprocessing libraries\n",
    "from sklearn import preprocessing\n",
    "from sklearn.model_selection import train_test_split\n",
    "\n",
    "# Regression libraries\n",
    "from sklearn.linear_model import LinearRegression, Lasso, Ridge, ElasticNet, LogisticRegression\n",
    "from xgboost import XGBRegressor\n",
    "from sklearn.ensemble import RandomForestRegressor\n",
    "from sklearn.tree import DecisionTreeRegressor\n",
    "\n",
    "# Metric libraries\n",
    "from sklearn.metrics import mean_squared_error, mean_absolute_error, r2_score\n",
    "\n",
    "\n"
   ]
  },
  {
   "cell_type": "code",
   "execution_count": 2,
   "id": "a992527f",
   "metadata": {},
   "outputs": [
    {
     "name": "stdout",
     "output_type": "stream",
     "text": [
      "<class 'pandas.core.frame.DataFrame'>\n",
      "RangeIndex: 38701 entries, 0 to 38700\n",
      "Data columns (total 13 columns):\n",
      " #   Column                     Non-Null Count  Dtype  \n",
      "---  ------                     --------------  -----  \n",
      " 0   bedroomcount               38701 non-null  float64\n",
      " 1   habitablesurface           38701 non-null  float64\n",
      " 2   haslift                    38701 non-null  int64  \n",
      " 3   hasgarden                  38701 non-null  int64  \n",
      " 4   hasswimmingpool            38701 non-null  int64  \n",
      " 5   hasterrace                 38701 non-null  int64  \n",
      " 6   price                      38701 non-null  float64\n",
      " 7   epcscore_encoded           38701 non-null  float64\n",
      " 8   buildingcondition_encoded  38701 non-null  float64\n",
      " 9   region_Brussels            38701 non-null  float64\n",
      " 10  region_Flanders            38701 non-null  float64\n",
      " 11  region_Wallonia            38701 non-null  float64\n",
      " 12  type_encoded               38701 non-null  int64  \n",
      "dtypes: float64(8), int64(5)\n",
      "memory usage: 3.8 MB\n"
     ]
    }
   ],
   "source": [
    "df = pd.read_csv(\"data_cleaned.csv\")\n",
    "df = df.drop(columns=['type', 'buildingcondition', 'epcscore', 'region', 'province', 'locality', 'postcode'])\n",
    "df.info()"
   ]
  },
  {
   "cell_type": "code",
   "execution_count": 3,
   "id": "fe2a582d",
   "metadata": {},
   "outputs": [
    {
     "data": {
      "image/png": "[encoded data removed]",
      "text/plain": [
       "<Figure size 300x500 with 1 Axes>"
      ]
     },
     "metadata": {},
     "output_type": "display_data"
    }
   ],
   "source": [
    "target = 'price'\n",
    "\n",
    "import matplotlib.pyplot as plt\n",
    "\n",
    "plt.figure(figsize=(3, 5))\n",
    "plt.boxplot(df[target], patch_artist=True, boxprops=dict(facecolor='#1f77b4', color='#1f77b4'),\n",
    "            medianprops=dict(color='white'))\n",
    "\n",
    "plt.title(f'Boxplot of {target.capitalize()}', fontsize=14, fontweight='bold')\n",
    "plt.ylabel(target.capitalize(), fontsize=12)\n",
    "plt.xticks([1], [target.capitalize()])\n",
    "plt.grid(True, linestyle='--', alpha=0.6)\n",
    "plt.tight_layout()\n",
    "plt.show()\n"
   ]
  },
  {
   "cell_type": "code",
   "execution_count": 4,
   "id": "41d83252",
   "metadata": {},
   "outputs": [],
   "source": [
    "def scaleDF(df, target):\n",
    "    features = df.drop(columns=[target])\n",
    "    target_col = df[target]\n",
    "\n",
    "    scaler = preprocessing.MinMaxScaler()\n",
    "    x_scaled = scaler.fit_transform(features)\n",
    "\n",
    "    df_scaled = pd.DataFrame(x_scaled, columns=features.columns, index=df.index)\n",
    "    df_scaled[target] = target_col  # Add target column back without scaling\n",
    "\n",
    "    return df_scaled\n"
   ]
  },
  {
   "cell_type": "code",
   "execution_count": 5,
   "id": "2d8b04e4",
   "metadata": {},
   "outputs": [],
   "source": [
    "def splitDF(df, target):\n",
    "    X = df.drop(target, axis=1).values\n",
    "    y = df[target].values\n",
    "    X_train, X_test, y_train, y_test = train_test_split(X, y, test_size=0.2, random_state=123)\n",
    "    return X_train, X_test, y_train, y_test\n"
   ]
  },
  {
   "cell_type": "code",
   "execution_count": 6,
   "id": "60b4a26f",
   "metadata": {},
   "outputs": [
    {
     "data": {
      "text/html": [
       "<div>\n",
       "<style scoped>\n",
       "    .dataframe tbody tr th:only-of-type {\n",
       "        vertical-align: middle;\n",
       "    }\n",
       "\n",
       "    .dataframe tbody tr th {\n",
       "        vertical-align: top;\n",
       "    }\n",
       "\n",
       "    .dataframe thead th {\n",
       "        text-align: right;\n",
       "    }\n",
       "</style>\n",
       "<table border=\"1\" class=\"dataframe\">\n",
       "  <thead>\n",
       "    <tr style=\"text-align: right;\">\n",
       "      <th></th>\n",
       "      <th>count</th>\n",
       "      <th>mean</th>\n",
       "      <th>std</th>\n",
       "      <th>min</th>\n",
       "      <th>25%</th>\n",
       "      <th>50%</th>\n",
       "      <th>75%</th>\n",
       "      <th>max</th>\n",
       "    </tr>\n",
       "  </thead>\n",
       "  <tbody>\n",
       "    <tr>\n",
       "      <th>bedroomcount</th>\n",
       "      <td>38701.0</td>\n",
       "      <td>0.030092</td>\n",
       "      <td>0.022085</td>\n",
       "      <td>0.0</td>\n",
       "      <td>0.016129</td>\n",
       "      <td>0.032258</td>\n",
       "      <td>0.048387</td>\n",
       "      <td>1.0</td>\n",
       "    </tr>\n",
       "    <tr>\n",
       "      <th>habitablesurface</th>\n",
       "      <td>38701.0</td>\n",
       "      <td>0.002332</td>\n",
       "      <td>0.005656</td>\n",
       "      <td>0.0</td>\n",
       "      <td>0.001323</td>\n",
       "      <td>0.001969</td>\n",
       "      <td>0.002831</td>\n",
       "      <td>1.0</td>\n",
       "    </tr>\n",
       "    <tr>\n",
       "      <th>haslift</th>\n",
       "      <td>38701.0</td>\n",
       "      <td>0.242991</td>\n",
       "      <td>0.428895</td>\n",
       "      <td>0.0</td>\n",
       "      <td>0.000000</td>\n",
       "      <td>0.000000</td>\n",
       "      <td>0.000000</td>\n",
       "      <td>1.0</td>\n",
       "    </tr>\n",
       "    <tr>\n",
       "      <th>hasgarden</th>\n",
       "      <td>38701.0</td>\n",
       "      <td>0.244128</td>\n",
       "      <td>0.429575</td>\n",
       "      <td>0.0</td>\n",
       "      <td>0.000000</td>\n",
       "      <td>0.000000</td>\n",
       "      <td>0.000000</td>\n",
       "      <td>1.0</td>\n",
       "    </tr>\n",
       "    <tr>\n",
       "      <th>hasswimmingpool</th>\n",
       "      <td>38701.0</td>\n",
       "      <td>0.017183</td>\n",
       "      <td>0.129955</td>\n",
       "      <td>0.0</td>\n",
       "      <td>0.000000</td>\n",
       "      <td>0.000000</td>\n",
       "      <td>0.000000</td>\n",
       "      <td>1.0</td>\n",
       "    </tr>\n",
       "    <tr>\n",
       "      <th>hasterrace</th>\n",
       "      <td>38701.0</td>\n",
       "      <td>0.668122</td>\n",
       "      <td>0.470893</td>\n",
       "      <td>0.0</td>\n",
       "      <td>0.000000</td>\n",
       "      <td>1.000000</td>\n",
       "      <td>1.000000</td>\n",
       "      <td>1.0</td>\n",
       "    </tr>\n",
       "    <tr>\n",
       "      <th>epcscore_encoded</th>\n",
       "      <td>38701.0</td>\n",
       "      <td>0.564637</td>\n",
       "      <td>0.232588</td>\n",
       "      <td>0.0</td>\n",
       "      <td>0.375000</td>\n",
       "      <td>0.500000</td>\n",
       "      <td>0.750000</td>\n",
       "      <td>1.0</td>\n",
       "    </tr>\n",
       "    <tr>\n",
       "      <th>buildingcondition_encoded</th>\n",
       "      <td>38701.0</td>\n",
       "      <td>0.368445</td>\n",
       "      <td>0.264344</td>\n",
       "      <td>0.0</td>\n",
       "      <td>0.200000</td>\n",
       "      <td>0.400000</td>\n",
       "      <td>0.600000</td>\n",
       "      <td>1.0</td>\n",
       "    </tr>\n",
       "    <tr>\n",
       "      <th>region_Brussels</th>\n",
       "      <td>38701.0</td>\n",
       "      <td>0.113718</td>\n",
       "      <td>0.317473</td>\n",
       "      <td>0.0</td>\n",
       "      <td>0.000000</td>\n",
       "      <td>0.000000</td>\n",
       "      <td>0.000000</td>\n",
       "      <td>1.0</td>\n",
       "    </tr>\n",
       "    <tr>\n",
       "      <th>region_Flanders</th>\n",
       "      <td>38701.0</td>\n",
       "      <td>0.589416</td>\n",
       "      <td>0.491946</td>\n",
       "      <td>0.0</td>\n",
       "      <td>0.000000</td>\n",
       "      <td>1.000000</td>\n",
       "      <td>1.000000</td>\n",
       "      <td>1.0</td>\n",
       "    </tr>\n",
       "    <tr>\n",
       "      <th>region_Wallonia</th>\n",
       "      <td>38701.0</td>\n",
       "      <td>0.296866</td>\n",
       "      <td>0.456883</td>\n",
       "      <td>0.0</td>\n",
       "      <td>0.000000</td>\n",
       "      <td>0.000000</td>\n",
       "      <td>1.000000</td>\n",
       "      <td>1.0</td>\n",
       "    </tr>\n",
       "    <tr>\n",
       "      <th>type_encoded</th>\n",
       "      <td>38701.0</td>\n",
       "      <td>0.588977</td>\n",
       "      <td>0.492026</td>\n",
       "      <td>0.0</td>\n",
       "      <td>0.000000</td>\n",
       "      <td>1.000000</td>\n",
       "      <td>1.000000</td>\n",
       "      <td>1.0</td>\n",
       "    </tr>\n",
       "    <tr>\n",
       "      <th>price</th>\n",
       "      <td>38701.0</td>\n",
       "      <td>344079.528229</td>\n",
       "      <td>166057.919608</td>\n",
       "      <td>14999.0</td>\n",
       "      <td>225000.000000</td>\n",
       "      <td>300000.000000</td>\n",
       "      <td>430000.000000</td>\n",
       "      <td>860000.0</td>\n",
       "    </tr>\n",
       "  </tbody>\n",
       "</table>\n",
       "</div>"
      ],
      "text/plain": [
       "                             count           mean            std      min  \\\n",
       "bedroomcount               38701.0       0.030092       0.022085      0.0   \n",
       "habitablesurface           38701.0       0.002332       0.005656      0.0   \n",
       "haslift                    38701.0       0.242991       0.428895      0.0   \n",
       "hasgarden                  38701.0       0.244128       0.429575      0.0   \n",
       "hasswimmingpool            38701.0       0.017183       0.129955      0.0   \n",
       "hasterrace                 38701.0       0.668122       0.470893      0.0   \n",
       "epcscore_encoded           38701.0       0.564637       0.232588      0.0   \n",
       "buildingcondition_encoded  38701.0       0.368445       0.264344      0.0   \n",
       "region_Brussels            38701.0       0.113718       0.317473      0.0   \n",
       "region_Flanders            38701.0       0.589416       0.491946      0.0   \n",
       "region_Wallonia            38701.0       0.296866       0.456883      0.0   \n",
       "type_encoded               38701.0       0.588977       0.492026      0.0   \n",
       "price                      38701.0  344079.528229  166057.919608  14999.0   \n",
       "\n",
       "                                     25%            50%            75%  \\\n",
       "bedroomcount                    0.016129       0.032258       0.048387   \n",
       "habitablesurface                0.001323       0.001969       0.002831   \n",
       "haslift                         0.000000       0.000000       0.000000   \n",
       "hasgarden                       0.000000       0.000000       0.000000   \n",
       "hasswimmingpool                 0.000000       0.000000       0.000000   \n",
       "hasterrace                      0.000000       1.000000       1.000000   \n",
       "epcscore_encoded                0.375000       0.500000       0.750000   \n",
       "buildingcondition_encoded       0.200000       0.400000       0.600000   \n",
       "region_Brussels                 0.000000       0.000000       0.000000   \n",
       "region_Flanders                 0.000000       1.000000       1.000000   \n",
       "region_Wallonia                 0.000000       0.000000       1.000000   \n",
       "type_encoded                    0.000000       1.000000       1.000000   \n",
       "price                      225000.000000  300000.000000  430000.000000   \n",
       "\n",
       "                                max  \n",
       "bedroomcount                    1.0  \n",
       "habitablesurface                1.0  \n",
       "haslift                         1.0  \n",
       "hasgarden                       1.0  \n",
       "hasswimmingpool                 1.0  \n",
       "hasterrace                      1.0  \n",
       "epcscore_encoded                1.0  \n",
       "buildingcondition_encoded       1.0  \n",
       "region_Brussels                 1.0  \n",
       "region_Flanders                 1.0  \n",
       "region_Wallonia                 1.0  \n",
       "type_encoded                    1.0  \n",
       "price                      860000.0  "
      ]
     },
     "execution_count": 6,
     "metadata": {},
     "output_type": "execute_result"
    }
   ],
   "source": [
    "df = scaleDF(df, target)\n",
    "X_train, X_test, y_train, y_test = splitDF(df, target)\n",
    "\n",
    "df.describe().transpose()"
   ]
  },
  {
   "cell_type": "code",
   "execution_count": 7,
   "id": "0e9e9630",
   "metadata": {},
   "outputs": [],
   "source": [
    "def regResults(y_test, y_pred):\n",
    "    # Metrics\n",
    "    mae = mean_absolute_error(y_test, y_pred)\n",
    "    mse = mean_squared_error(y_test, y_pred)\n",
    "    rmse = np.sqrt(mse)\n",
    "    r2 = r2_score(y_test, y_pred)\n",
    "\n",
    "    print(f\"📊 Linear Regression Results:\")\n",
    "    print(f\"MAE  (Mean Absolute Error)     : {mae:.2f}\")\n",
    "    print(f\"MSE  (Mean Squared Error)      : {mse:.2f}\")\n",
    "    print(f\"RMSE (Root Mean Squared Error) : {rmse:.2f}\")\n",
    "    print(f\"R²   (R-squared)                : {r2:.3f}\")"
   ]
  },
  {
   "cell_type": "markdown",
   "id": "a98cfdb6",
   "metadata": {},
   "source": [
    "# LINEAR REGRESSION"
   ]
  },
  {
   "cell_type": "code",
   "execution_count": 8,
   "id": "2e5ab72c",
   "metadata": {},
   "outputs": [
    {
     "name": "stdout",
     "output_type": "stream",
     "text": [
      "📊 Linear Regression Results:\n",
      "MAE  (Mean Absolute Error)     : 92973.65\n",
      "MSE  (Mean Squared Error)      : 27973714603.22\n",
      "RMSE (Root Mean Squared Error) : 167253.44\n",
      "R²   (R-squared)                : -0.018\n"
     ]
    }
   ],
   "source": [
    "# Instantiate the model\n",
    "reg = LinearRegression()\n",
    "\n",
    "# Fit the model to the data\n",
    "reg.fit(X_train, y_train)\n",
    "\n",
    "# Make predictions\n",
    "y_pred = reg.predict(X_test)\n",
    "\n",
    "regResults(y_test, y_pred)"
   ]
  },
  {
   "cell_type": "code",
   "execution_count": 9,
   "id": "0b63bee9",
   "metadata": {},
   "outputs": [
    {
     "data": {
      "image/png": "[encoded data removed]",
      "text/plain": [
       "<Figure size 600x600 with 1 Axes>"
      ]
     },
     "metadata": {},
     "output_type": "display_data"
    }
   ],
   "source": [
    "# Scatter plot of actual vs predicted\n",
    "plt.figure(figsize=(6, 6))\n",
    "sns.scatterplot(x=y_test, y=y_pred)\n",
    "plt.xlabel('Actual Price')\n",
    "plt.ylabel('Predicted Price')\n",
    "plt.title('Actual vs Predicted Price')\n",
    "plt.plot([y_test.min(), y_test.max()], [y_test.min(), y_test.max()], '--r')  # Ideal line\n",
    "plt.grid(True)\n",
    "plt.tight_layout()\n",
    "plt.show()\n"
   ]
  },
  {
   "cell_type": "code",
   "execution_count": 10,
   "id": "2a5befbb",
   "metadata": {},
   "outputs": [
    {
     "data": {
      "image/png": "[encoded data removed]",
      "text/plain": [
       "<Figure size 600x400 with 1 Axes>"
      ]
     },
     "metadata": {},
     "output_type": "display_data"
    }
   ],
   "source": [
    "residuals = y_test - y_pred\n",
    "\n",
    "plt.figure(figsize=(6, 4))\n",
    "sns.histplot(residuals, kde=True)\n",
    "plt.axvline(0, color='red', linestyle='--')\n",
    "plt.title('Distribution of Residuals')\n",
    "plt.xlabel('Residual')\n",
    "plt.tight_layout()\n",
    "plt.show()\n"
   ]
  },
  {
   "cell_type": "code",
   "execution_count": 11,
   "id": "ba90a389",
   "metadata": {},
   "outputs": [
    {
     "name": "stdout",
     "output_type": "stream",
     "text": [
      "📊 Linear Regression Results:\n",
      "MAE  (Mean Absolute Error)     : 92973.66\n",
      "MSE  (Mean Squared Error)      : 27973486771.50\n",
      "RMSE (Root Mean Squared Error) : 167252.76\n",
      "R²   (R-squared)                : -0.018\n"
     ]
    }
   ],
   "source": [
    "# Lasso\n",
    "modelLASSO = Lasso(alpha=0.0005, random_state=123)\n",
    "modelLASSO.fit(X_train, y_train)\n",
    "\n",
    "y_pred = modelLASSO.predict(X_test)\n",
    "regResults(y_test, y_pred)"
   ]
  },
  {
   "cell_type": "code",
   "execution_count": 12,
   "id": "794c9fa0",
   "metadata": {},
   "outputs": [
    {
     "name": "stdout",
     "output_type": "stream",
     "text": [
      "📊 Linear Regression Results:\n",
      "MAE  (Mean Absolute Error)     : 92983.73\n",
      "MSE  (Mean Squared Error)      : 27679825923.92\n",
      "RMSE (Root Mean Squared Error) : 166372.55\n",
      "R²   (R-squared)                : -0.008\n"
     ]
    }
   ],
   "source": [
    "# Ridge\n",
    "modelRIDGE = Ridge(alpha=0.002, random_state=123)\n",
    "\n",
    "modelRIDGE.fit(X_train, y_train)\n",
    "\n",
    "y_pred = modelRIDGE.predict(X_test)\n",
    "regResults(y_test, y_pred)"
   ]
  },
  {
   "cell_type": "code",
   "execution_count": 13,
   "id": "01f6caed",
   "metadata": {},
   "outputs": [
    {
     "name": "stdout",
     "output_type": "stream",
     "text": [
      "📊 Linear Regression Results:\n",
      "MAE  (Mean Absolute Error)     : 104422.26\n",
      "MSE  (Mean Squared Error)      : 19070927138.33\n",
      "RMSE (Root Mean Squared Error) : 138097.53\n",
      "R²   (R-squared)                : 0.306\n"
     ]
    }
   ],
   "source": [
    "# ElasticNet = Lasso (L1) + Ridge (L2)\n",
    "# It combines the strengths of both:\n",
    "\n",
    "modelEnet = ElasticNet(alpha=0.02, random_state=5, l1_ratio=0.7)\n",
    "\n",
    "modelEnet.fit(X_train, y_train)\n",
    "\n",
    "y_pred = modelEnet.predict(X_test)\n",
    "regResults(y_test, y_pred)"
   ]
  },
  {
   "cell_type": "markdown",
   "id": "4462f110",
   "metadata": {},
   "source": [
    "# XGBOOST"
   ]
  },
  {
   "cell_type": "code",
   "execution_count": 14,
   "id": "b7e2d2ae",
   "metadata": {},
   "outputs": [
    {
     "name": "stdout",
     "output_type": "stream",
     "text": [
      "📊 Linear Regression Results:\n",
      "MAE  (Mean Absolute Error)     : 80802.20\n",
      "MSE  (Mean Squared Error)      : 12117593669.53\n",
      "RMSE (Root Mean Squared Error) : 110079.94\n",
      "R²   (R-squared)                : 0.559\n"
     ]
    }
   ],
   "source": [
    "modelXGB = XGBRegressor(random_state=123)\n",
    "modelXGB.fit(X_train, y_train)\n",
    "\n",
    "y_pred = modelXGB.predict(X_test)\n",
    "regResults(y_test, y_pred)"
   ]
  },
  {
   "cell_type": "code",
   "execution_count": 15,
   "id": "d72f377e",
   "metadata": {},
   "outputs": [
    {
     "name": "stdout",
     "output_type": "stream",
     "text": [
      "📊 Linear Regression Results:\n",
      "MAE  (Mean Absolute Error)     : 80161.37\n",
      "MSE  (Mean Squared Error)      : 11939131139.50\n",
      "RMSE (Root Mean Squared Error) : 109266.33\n",
      "R²   (R-squared)                : 0.565\n"
     ]
    }
   ],
   "source": [
    "# n_estimators specifies how many times to go through the modeling cycle described above. It is equal to the number of models that we include in the ensemble.\n",
    "# Too low a value causes underfitting, which leads to inaccurate predictions on both training data and test data.\n",
    "# Too high a value causes overfitting, which causes accurate predictions on training data, but inaccurate predictions on test data (which is what we care about).\n",
    "\n",
    "# early_stopping_rounds offers a way to automatically find the ideal value for n_estimators. \n",
    "# Early stopping causes the model to stop iterating when the validation score stops improving, even if we aren't at the hard stop for n_estimators. \n",
    "# Setting early_stopping_rounds=5 is a reasonable choice. \n",
    "# In this case, we stop after 5 straight rounds of deteriorating validation scores.\n",
    "\n",
    "modelXGB2 = XGBRegressor(n_estimators=500, learning_rate=0.05, early_stopping_rounds=5, random_state=123)\n",
    "\n",
    "modelXGB2.fit(\n",
    "    X_train, y_train,\n",
    "    eval_set=[(X_test, y_test)],\n",
    "    verbose=False\n",
    ")\n",
    "\n",
    "y_pred = modelXGB2.predict(X_test)\n",
    "regResults(y_test, y_pred)"
   ]
  },
  {
   "cell_type": "markdown",
   "id": "0825ea01",
   "metadata": {},
   "source": [
    "# RANDOM FOREST"
   ]
  },
  {
   "cell_type": "code",
   "execution_count": 16,
   "id": "c1d5926b",
   "metadata": {},
   "outputs": [
    {
     "name": "stdout",
     "output_type": "stream",
     "text": [
      "📊 Linear Regression Results:\n",
      "MAE  (Mean Absolute Error)     : 85335.82\n",
      "MSE  (Mean Squared Error)      : 13713258909.67\n",
      "RMSE (Root Mean Squared Error) : 117103.62\n",
      "R²   (R-squared)                : 0.501\n"
     ]
    }
   ],
   "source": [
    "modelRF = RandomForestRegressor(n_estimators=100, random_state=123)\n",
    "modelRF.fit(X_train, y_train)\n",
    "\n",
    "y_pred = modelRF.predict(X_test)\n",
    "regResults(y_test, y_pred)"
   ]
  },
  {
   "cell_type": "code",
   "execution_count": 17,
   "id": "71284268",
   "metadata": {},
   "outputs": [
    {
     "name": "stdout",
     "output_type": "stream",
     "text": [
      "📊 Linear Regression Results:\n",
      "MAE  (Mean Absolute Error)     : 85335.82\n",
      "MSE  (Mean Squared Error)      : 13713258909.67\n",
      "RMSE (Root Mean Squared Error) : 117103.62\n",
      "R²   (R-squared)                : 0.501\n"
     ]
    }
   ],
   "source": [
    "from sklearn.ensemble import RandomForestRegressor\n",
    "\n",
    "modelRF2 = RandomForestRegressor(n_estimators=100, random_state=123)\n",
    "modelRF2.fit(X_train, y_train)\n",
    "\n",
    "y_pred = modelRF2.predict(X_test)\n",
    "regResults(y_test, y_pred)"
   ]
  },
  {
   "cell_type": "markdown",
   "id": "e5f103ac",
   "metadata": {},
   "source": [
    "# DECISION TREE"
   ]
  },
  {
   "cell_type": "code",
   "execution_count": 19,
   "id": "39767655",
   "metadata": {},
   "outputs": [
    {
     "name": "stdout",
     "output_type": "stream",
     "text": [
      "📊 Linear Regression Results:\n",
      "MAE  (Mean Absolute Error)     : 102694.32\n",
      "MSE  (Mean Squared Error)      : 21066857821.61\n",
      "RMSE (Root Mean Squared Error) : 145144.27\n",
      "R²   (R-squared)                : 0.233\n"
     ]
    }
   ],
   "source": [
    "modelDT = DecisionTreeRegressor(random_state=123)\n",
    "modelDT.fit(X_train, y_train)\n",
    "\n",
    "y_pred = modelDT.predict(X_test)\n",
    "regResults(y_test, y_pred)"
   ]
  },
  {
   "cell_type": "code",
   "execution_count": 20,
   "id": "579ecf6f",
   "metadata": {},
   "outputs": [
    {
     "name": "stdout",
     "output_type": "stream",
     "text": [
      "\n",
      "* Results with max leaf nodes 5:\n",
      "📊 Linear Regression Results:\n",
      "MAE  (Mean Absolute Error)     : 106036.28\n",
      "MSE  (Mean Squared Error)      : 19030706717.30\n",
      "RMSE (Root Mean Squared Error) : 137951.83\n",
      "R²   (R-squared)                : 0.307\n",
      "\n",
      "* Results with max leaf nodes 50:\n",
      "📊 Linear Regression Results:\n",
      "MAE  (Mean Absolute Error)     : 87905.55\n",
      "MSE  (Mean Squared Error)      : 13874612610.61\n",
      "RMSE (Root Mean Squared Error) : 117790.55\n",
      "R²   (R-squared)                : 0.495\n",
      "\n",
      "* Results with max leaf nodes 500:\n",
      "📊 Linear Regression Results:\n",
      "MAE  (Mean Absolute Error)     : 84498.93\n",
      "MSE  (Mean Squared Error)      : 13473573392.66\n",
      "RMSE (Root Mean Squared Error) : 116075.72\n",
      "R²   (R-squared)                : 0.510\n",
      "\n",
      "* Results with max leaf nodes 1000:\n",
      "📊 Linear Regression Results:\n",
      "MAE  (Mean Absolute Error)     : 86097.25\n",
      "MSE  (Mean Squared Error)      : 14430129585.98\n",
      "RMSE (Root Mean Squared Error) : 120125.47\n",
      "R²   (R-squared)                : 0.475\n",
      "\n",
      "* Results with max leaf nodes 5000:\n",
      "📊 Linear Regression Results:\n",
      "MAE  (Mean Absolute Error)     : 94161.11\n",
      "MSE  (Mean Squared Error)      : 18282477402.67\n",
      "RMSE (Root Mean Squared Error) : 135212.71\n",
      "R²   (R-squared)                : 0.335\n"
     ]
    }
   ],
   "source": [
    "# checking underfitting and overfitting\n",
    "\n",
    "for max_leaf_nodes in [5, 50, 500, 1000, 5000]:\n",
    "\n",
    "    modelDT2 = DecisionTreeRegressor(max_leaf_nodes=max_leaf_nodes, random_state=123)\n",
    "    modelDT2.fit(X_train, y_train)\n",
    "\n",
    "    y_pred = modelDT2.predict(X_test)\n",
    "\n",
    "    print(f\"\\n* Results with max leaf nodes {max_leaf_nodes}:\")\n",
    "    regResults(y_test, y_pred)"
   ]
  }
 ],
 "metadata": {
  "kernelspec": {
   "display_name": "Python 3",
   "language": "python",
   "name": "python3"
  },
  "language_info": {
   "codemirror_mode": {
    "name": "ipython",
    "version": 3
   },
   "file_extension": ".py",
   "mimetype": "text/x-python",
   "name": "python",
   "nbconvert_exporter": "python",
   "pygments_lexer": "ipython3",
   "version": "3.13.3"
  }
 },
 "nbformat": 4,
 "nbformat_minor": 5
}
